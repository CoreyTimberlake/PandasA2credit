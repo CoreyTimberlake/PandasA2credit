{
  "nbformat": 4,
  "nbformat_minor": 0,
  "metadata": {
    "colab": {
      "provenance": []
    },
    "kernelspec": {
      "name": "python3",
      "display_name": "Python 3"
    },
    "language_info": {
      "name": "python"
    }
  },
  "cells": [
    {
      "cell_type": "code",
      "execution_count": 59,
      "metadata": {
        "id": "XS-WQoV3Zpph"
      },
      "outputs": [],
      "source": [
        "import numpy as np\n",
        "import pandas as pd\n",
        "\n",
        "odd = pd.Series([i for i in range(3,12,2)])\n",
        "Q1 = odd.values\n",
        "Q2 = odd.index\n",
        "Q3 = odd[2]\n",
        "Q4 = odd[2:4]\n",
        "\n",
        "odd1 = pd.Series([i for i in range(3,12,2)])\n",
        "odd1.index = ['three', 'five', 'seven', 'nine','eleven']\n",
        "Q5 = odd1\n",
        "\n",
        "dictionary1 = {'Da':'ta','Sc':'ie', 'nc':'ef', 'or':'all'}\n",
        "series1 = pd.Series(dictionary1)\n",
        "Q6 = series1\n",
        "\n",
        "Q7 = Q6['nc']\n",
        "Q8 = Q6['Sc':]\n",
        "\n",
        "dictionary2 = {'A':'a', 'B':'b', 'C':'c'}\n",
        "dictionary3 = {'A':1, 'B':2, 'C':3}\n",
        "s2 = pd.Series(dictionary2, name = 'lowercase')\n",
        "s3 = pd.Series(dictionary3, name = 'numbers')\n",
        "df = pd.merge(s2, s3, right_index = True, left_index = True)\n",
        "Q9 = df\n",
        "\n",
        "Q10 = Q9.index\n",
        "Q11 = Q9.columns\n",
        "\n",
        "Q12 =Q9.iloc[:,-1] \n"
      ]
    }
  ]
}